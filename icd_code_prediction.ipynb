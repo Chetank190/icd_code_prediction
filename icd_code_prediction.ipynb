{
 "cells": [
  {
   "cell_type": "markdown",
   "metadata": {},
   "source": [
    "# Medical Use-case:\n",
    "## Extract the ICD codes from the clinical text."
   ]
  },
  {
   "cell_type": "markdown",
   "metadata": {},
   "source": [
    "ICD codes, or International Classification of Diseases codes, are a standardized system of alphanumeric codes used to represent medical diagnoses and procedures. They play an essential role in medical billing and claims processing. Here’s an overview of how ICD codes are applied in medical claims:\n",
    "\n",
    "1. Claim Submission\n",
    "When healthcare providers perform services or procedures, they create medical claims that detail the services, diagnoses, and other relevant information. ICD codes are included in these claims to precisely describe the patient’s condition.\n",
    "\n",
    "2. Insurance Processing\n",
    "Health insurance companies rely on ICD codes to process claims efficiently and assess the medical necessity and coverage of services provided. The codes help insurers understand the patient’s condition and the healthcare services received.\n",
    "\n",
    "3. Claim Adjudication\n",
    "Insurance companies use the ICD codes on claims to compare against their policies and determine reimbursement. Claims may be accepted, denied, or adjusted based on the information provided by these codes.\n",
    "\n",
    "4. Billing and Reimbursement\n",
    "Healthcare providers use ICD codes to bill insurance companies for the services they deliver. Reimbursement amounts often correlate with the ICD codes, the type of procedure, and additional factors.\n",
    "\n",
    "5. Medical Necessity\n",
    "ICD codes are crucial in establishing the necessity of a procedure or service. Insurance companies review these codes to determine if the treatment aligns with the patient’s diagnosis and adheres to accepted medical guidelines.\n",
    "\n",
    "6. Fraud Detection\n",
    "Insurance companies utilize ICD codes to identify possible fraud or abuse. Discrepancies, such as services that don’t align with diagnosis codes or seem excessive, may prompt further review or investigation.\n",
    "\n",
    "7. Data Analysis and Research\n",
    "ICD codes also support healthcare data analysis at a broader level. Researchers, public health officials, and policymakers use ICD data to track health trends, conduct studies, and inform healthcare decisions and policy.\n",
    "\n",
    "8. Diagnosis Coding\n",
    "ICD codes ensure an accurate representation of a patient’s medical condition. Each diagnosis, symptom, or complaint is assigned a specific ICD code, which facilitates clear communication between providers and insurers about the reasons for a patient’s treatment.\n",
    "\n",
    "Accurate ICD coding is essential for proper reimbursement and regulatory compliance. Medical coders assign these codes based on patient records and documentation, which standardizes communication between providers and insurers, streamlining claims processing and ensuring accurate reimbursement."
   ]
  },
  {
   "cell_type": "markdown",
   "metadata": {},
   "source": [
    "### Download ICD codes from https://www.cms.gov/medicare/coding-billing/icd-10-codes#CodeFiles"
   ]
  },
  {
   "cell_type": "code",
   "execution_count": 1,
   "metadata": {},
   "outputs": [
    {
     "name": "stderr",
     "output_type": "stream",
     "text": [
      "c:\\Users\\cheta\\anaconda3\\envs\\hugging_face\\lib\\site-packages\\tqdm\\auto.py:21: TqdmWarning: IProgress not found. Please update jupyter and ipywidgets. See https://ipywidgets.readthedocs.io/en/stable/user_install.html\n",
      "  from .autonotebook import tqdm as notebook_tqdm\n"
     ]
    }
   ],
   "source": [
    "import pandas as pd\n",
    "import numpy as np\n",
    "from sentence_transformers import SentenceTransformer, util\n",
    "import stanza"
   ]
  },
  {
   "cell_type": "code",
   "execution_count": 2,
   "metadata": {},
   "outputs": [],
   "source": [
    "# Load ICD-10-CM data\n",
    "def load_icd10cm_data(filepath='icd10cm_codes_2025.txt'):\n",
    "    data = pd.read_csv(filepath, sep=\"\\t\", header=None)\n",
    "    data['IcdCodes'] = data[0].apply(lambda x: x.split()[0])\n",
    "    data['IcdDescription'] = data[0].apply(lambda x: \" \".join(x.split()[1:]))\n",
    "    data = data.drop([0], axis=1)\n",
    "    return data"
   ]
  },
  {
   "cell_type": "code",
   "execution_count": 3,
   "metadata": {},
   "outputs": [],
   "source": [
    "# Initialize model and embeddings\n",
    "def load_model_and_embeddings(data, model_name='all-MiniLM-L6-v2'):\n",
    "    model = SentenceTransformer(model_name)\n",
    "    embeddings = model.encode(data['IcdDescription'], convert_to_tensor=True)\n",
    "    return model, embeddings  "
   ]
  },
  {
   "cell_type": "code",
   "execution_count": 4,
   "metadata": {},
   "outputs": [],
   "source": [
    "# Initialize Stanza pipeline\n",
    "def initialize_stanza_pipeline():\n",
    "    stanza.download('en', package='mimic', processors={'ner': 'i2b2'})\n",
    "    return stanza.Pipeline('en', package='mimic', processors={'ner': 'i2b2'})"
   ]
  },
  {
   "cell_type": "code",
   "execution_count": 5,
   "metadata": {},
   "outputs": [],
   "source": [
    "# Extract NER entities\n",
    "def extract_problem_entities(nlp, text):\n",
    "    doc = nlp(text)\n",
    "    ner_list = [ent.text for ent in doc.entities if ent.type == 'PROBLEM']\n",
    "    print(\"ner_list: \", ner_list)\n",
    "    return ner_list"
   ]
  },
  {
   "cell_type": "code",
   "execution_count": 6,
   "metadata": {},
   "outputs": [],
   "source": [
    "def predict_icd_codes(ner_list, model, embeddings, data, top_n=2, threshold=0.5):\n",
    "    # Encode NER list and move to CPU\n",
    "    embedding_ner = model.encode(ner_list, convert_to_tensor=True)\n",
    "    \n",
    "    # Calculate cosine similarity\n",
    "    res = util.cos_sim(embedding_ner, embeddings)  \n",
    "\n",
    "    # Move to CPU and convert to numpy\n",
    "    res = res.cpu().numpy()\n",
    "\n",
    "    # Display results\n",
    "    for element, ner_item in zip(res, ner_list):\n",
    "        # Get top `n` indices and corresponding scores\n",
    "        top_indices = element.argsort()[::-1][:top_n]\n",
    "        top_scores = np.sort(element)[::-1][:top_n]\n",
    "\n",
    "        print(f\"\\nNER Entity: {ner_item}\")\n",
    "        print(\"Top ICD Code Matches:\")\n",
    "        \n",
    "        for idx, score in zip(top_indices, top_scores):\n",
    "            if score >= threshold:\n",
    "                icd_code = data.iloc[idx]['IcdCodes']\n",
    "                icd_description = data.iloc[idx]['IcdDescription']\n",
    "                print(f\"- ICD Code: {icd_code}, Description: {icd_description}, Similarity Score: {score * 100:.2f}%\")\n",
    "            else:\n",
    "                print(\"- No matches with a high enough similarity score.\")\n"
   ]
  },
  {
   "cell_type": "code",
   "execution_count": null,
   "metadata": {},
   "outputs": [],
   "source": [
    "# Main function to run the process\n",
    "def main():\n",
    "    # Load ICD-10-CM data\n",
    "    data = load_icd10cm_data()\n",
    "\n",
    "    data.head()\n",
    "\n",
    "    # Load model and embeddings\n",
    "    model, embeddings = load_model_and_embeddings(data)\n",
    "\n",
    "    # Initialize Stanza pipeline\n",
    "    nlp = initialize_stanza_pipeline()\n",
    "\n",
    "    # Input text for diagnosis extraction\n",
    "    # text = \"\"\"He is suffering from chronic kidney.\n",
    "    # he is also suffering from diabetes\n",
    "    # he is also suffering from HIV\"\"\"\n",
    "\n",
    "    text = \"\"\"The patient presents with persistent lower back pain, reporting a dull ache that occasionally radiates down the left leg. Pain is aggravated by prolonged sitting and alleviated somewhat by standing and gentle stretching. No history of recent trauma or injury. Patient reports difficulty sleeping due to discomfort, but no significant weakness, numbness, or loss of bowel/bladder control. Physical examination reveals tenderness along the lumbar spine with limited range of motion in flexion. Straight leg raise test is positive on the left side, suggesting possible nerve root irritation. Plan includes imaging to assess for disc pathology, NSAIDs for pain management, and referral to physical therapy for core strengthening and flexibility exercises. Follow-up in two weeks to evaluate progress.\"\"\"\n",
    "\n",
    "    # Extract entities and predict ICD codes\n",
    "    ner_list = extract_problem_entities(nlp, text)\n",
    "    predict_icd_codes(ner_list, model, embeddings, data, top_n=2, threshold=0.5)"
   ]
  },
  {
   "cell_type": "code",
   "execution_count": 8,
   "metadata": {},
   "outputs": [
    {
     "name": "stderr",
     "output_type": "stream",
     "text": [
      "Downloading https://raw.githubusercontent.com/stanfordnlp/stanza-resources/main/resources_1.9.0.json: 392kB [00:00, 21.1MB/s]                    \n",
      "2024-11-12 08:49:14 INFO: Downloaded file to C:\\Users\\cheta\\stanza_resources\\resources.json\n",
      "2024-11-12 08:49:14 INFO: Downloading these customized packages for language: en (English)...\n",
      "====================================\n",
      "| Processor       | Package        |\n",
      "------------------------------------\n",
      "| tokenize        | mimic          |\n",
      "| pos             | mimic_charlm   |\n",
      "| lemma           | mimic_nocharlm |\n",
      "| depparse        | mimic_charlm   |\n",
      "| ner             | i2b2           |\n",
      "| forward_charlm  | mimic          |\n",
      "| backward_charlm | mimic          |\n",
      "| pretrain        | mimic          |\n",
      "====================================\n",
      "\n",
      "2024-11-12 08:49:14 INFO: File exists: C:\\Users\\cheta\\stanza_resources\\en\\tokenize\\mimic.pt\n",
      "2024-11-12 08:49:14 INFO: File exists: C:\\Users\\cheta\\stanza_resources\\en\\pos\\mimic_charlm.pt\n",
      "2024-11-12 08:49:14 INFO: File exists: C:\\Users\\cheta\\stanza_resources\\en\\lemma\\mimic_nocharlm.pt\n",
      "2024-11-12 08:49:14 INFO: File exists: C:\\Users\\cheta\\stanza_resources\\en\\depparse\\mimic_charlm.pt\n",
      "2024-11-12 08:49:14 INFO: File exists: C:\\Users\\cheta\\stanza_resources\\en\\ner\\i2b2.pt\n",
      "2024-11-12 08:49:14 INFO: File exists: C:\\Users\\cheta\\stanza_resources\\en\\forward_charlm\\mimic.pt\n",
      "2024-11-12 08:49:14 INFO: File exists: C:\\Users\\cheta\\stanza_resources\\en\\backward_charlm\\mimic.pt\n",
      "2024-11-12 08:49:14 INFO: File exists: C:\\Users\\cheta\\stanza_resources\\en\\pretrain\\mimic.pt\n",
      "2024-11-12 08:49:14 INFO: Finished downloading models and saved to C:\\Users\\cheta\\stanza_resources\n",
      "2024-11-12 08:49:14 INFO: Checking for updates to resources.json in case models have been updated.  Note: this behavior can be turned off with download_method=None or download_method=DownloadMethod.REUSE_RESOURCES\n",
      "Downloading https://raw.githubusercontent.com/stanfordnlp/stanza-resources/main/resources_1.9.0.json: 392kB [00:00, 10.5MB/s]                    \n",
      "2024-11-12 08:49:15 INFO: Downloaded file to C:\\Users\\cheta\\stanza_resources\\resources.json\n",
      "2024-11-12 08:49:15 INFO: Loading these models for language: en (English):\n",
      "==============================\n",
      "| Processor | Package        |\n",
      "------------------------------\n",
      "| tokenize  | mimic          |\n",
      "| pos       | mimic_charlm   |\n",
      "| lemma     | mimic_nocharlm |\n",
      "| depparse  | mimic_charlm   |\n",
      "| ner       | i2b2           |\n",
      "==============================\n",
      "\n",
      "2024-11-12 08:49:15 INFO: Using device: cuda\n",
      "2024-11-12 08:49:15 INFO: Loading: tokenize\n",
      "2024-11-12 08:49:16 INFO: Loading: pos\n",
      "2024-11-12 08:49:16 INFO: Loading: lemma\n",
      "2024-11-12 08:49:16 INFO: Loading: depparse\n",
      "2024-11-12 08:49:17 INFO: Loading: ner\n",
      "2024-11-12 08:49:17 INFO: Done loading processors!\n"
     ]
    },
    {
     "name": "stdout",
     "output_type": "stream",
     "text": [
      "ner_list:  ['chronic kidney', 'diabetes', 'HIV']\n",
      "\n",
      "NER Entity: chronic kidney\n",
      "Top ICD Code Matches:\n",
      "- ICD Code: N189, Description: Chronic kidney disease, unspecified, Similarity Score: 88.52%\n",
      "- ICD Code: N181, Description: Chronic kidney disease, stage 1, Similarity Score: 78.16%\n",
      "\n",
      "NER Entity: diabetes\n",
      "Top ICD Code Matches:\n",
      "- ICD Code: E089, Description: Diabetes mellitus due to underlying condition without complications, Similarity Score: 73.68%\n",
      "- ICD Code: R7303, Description: Prediabetes, Similarity Score: 73.65%\n",
      "\n",
      "NER Entity: HIV\n",
      "Top ICD Code Matches:\n",
      "- ICD Code: B20, Description: Human immunodeficiency virus [HIV] disease, Similarity Score: 74.56%\n",
      "- ICD Code: Z21, Description: Asymptomatic human immunodeficiency virus [HIV] infection status, Similarity Score: 65.49%\n"
     ]
    }
   ],
   "source": [
    "# Run the main function\n",
    "if __name__ == \"__main__\":\n",
    "    main()"
   ]
  },
  {
   "cell_type": "code",
   "execution_count": null,
   "metadata": {},
   "outputs": [],
   "source": []
  }
 ],
 "metadata": {
  "kernelspec": {
   "display_name": "hugging_face",
   "language": "python",
   "name": "python3"
  },
  "language_info": {
   "codemirror_mode": {
    "name": "ipython",
    "version": 3
   },
   "file_extension": ".py",
   "mimetype": "text/x-python",
   "name": "python",
   "nbconvert_exporter": "python",
   "pygments_lexer": "ipython3",
   "version": "3.8.20"
  }
 },
 "nbformat": 4,
 "nbformat_minor": 2
}
